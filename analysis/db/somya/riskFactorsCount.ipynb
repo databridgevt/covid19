{
 "cells": [
  {
   "cell_type": "code",
   "execution_count": 1,
   "metadata": {},
   "outputs": [],
   "source": [
    "\n",
    "import pandas as pd\n",
    "from nltk.stem import PorterStemmer\n",
    "import matplotlib.pyplot as plt\n",
    "from pyprojroot import here\n",
    "\n",
    "# load the tab separated file\n",
    "df = pd.read_csv(here(\"./data/db/final/kaggle/paper_text/comm_use_subset_pdf_json.tsv\"), sep=\"\\t\")\n"
   ]
  },
  {
   "cell_type": "code",
   "execution_count": 3,
   "metadata": {},
   "outputs": [],
   "source": [
    "# defining risk factor keywords\n",
    "targets = {\"smoke\",  \"diabetes\", \"neonates\", \"pregnancy\",\n",
    "                \"pregnant\", \"heart\", \"co-infection\", \"coinfection\", \"comorbidity\"}\n",
    "\n",
    "\n",
    "\n",
    "word_stemmer = PorterStemmer()\n",
    "map = {}\n",
    "# convert target terms into their stemmed versions for successfull matching\n",
    "for term in targets:\n",
    "    stemmedTerm = word_stemmer.stem(term)\n",
    "    \n",
    "    map[stemmedTerm] = 0\n",
    "    \n",
    "    "
   ]
  },
  {
   "cell_type": "code",
   "execution_count": 4,
   "metadata": {},
   "outputs": [
    {
     "name": "stdout",
     "output_type": "stream",
     "text": [
      "{'heart': 1054, 'smoke': 256, 'diabet': 706, 'neonat': 579, 'coinfect': 529, 'pregnant': 496, 'pregnanc': 407, 'co-infect': 835, 'comorbid': 412}\n"
     ]
    }
   ],
   "source": [
    "# searching for words in the text\n",
    "text_data = df['text']\n",
    "for text in text_data:\n",
    "    for word in map:\n",
    "        if word in text:\n",
    "            map[word] = map[word]+1;\n",
    "print(map)          "
   ]
  },
  {
   "cell_type": "code",
   "execution_count": 5,
   "metadata": {},
   "outputs": [
    {
     "data": {
      "image/png": "[encoded data removed]",
      "text/plain": [
       "<Figure size 432x288 with 1 Axes>"
      ]
     },
     "metadata": {
      "needs_background": "light"
     },
     "output_type": "display_data"
    }
   ],
   "source": [
    "to_graph = {\"heart disease\": map['heart'], \"pregnancy\": map['pregnanc'],\n",
    "            \"diabetes\": map[\"diabet\"], \"smoking\": map[\"smoke\"], \n",
    "            \"coinfection\": map['coinfect']+map['co-infect']+map['comorbid']}\n",
    "\n",
    "keys = to_graph.keys()\n",
    "values = to_graph.values()\n",
    "\n",
    "plt.figure()\n",
    "plt.bar(keys, values)\n",
    "plt.title(\"Frequency of Risk Factors\")\n",
    "plt.xlabel(\"Risk Factors\")\n",
    "plt.ylabel(\"Frequency\")\n",
    "plt.show()\n"
   ]
  },
  {
   "cell_type": "code",
   "execution_count": null,
   "metadata": {},
   "outputs": [],
   "source": []
  }
 ],
 "metadata": {
  "kernelspec": {
   "display_name": "Python 3",
   "language": "python",
   "name": "python3"
  },
  "language_info": {
   "codemirror_mode": {
    "name": "ipython",
    "version": 3
   },
   "file_extension": ".py",
   "mimetype": "text/x-python",
   "name": "python",
   "nbconvert_exporter": "python",
   "pygments_lexer": "ipython3",
   "version": "3.7.4"
  }
 },
 "nbformat": 4,
 "nbformat_minor": 2
}
