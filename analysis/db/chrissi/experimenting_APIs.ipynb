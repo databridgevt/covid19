{
 "cells": [
  {
   "cell_type": "markdown",
   "metadata": {},
   "source": [
    "# Experimenting with News and Tone Analyzer API's"
   ]
  },
  {
   "cell_type": "markdown",
   "metadata": {},
   "source": [
    "First I begin by using the google news API"
   ]
  },
  {
   "cell_type": "code",
   "execution_count": 1,
   "metadata": {},
   "outputs": [],
   "source": [
    "import requests\n",
    "from pprint import pprint\n",
    "import pandas as pd\n",
    "from ibm_watson import ToneAnalyzerV3\n",
    "from ibm_cloud_sdk_core.authenticators import BasicAuthenticator\n",
    "import json\n",
    "import os\n",
    "from os.path import join\n",
    "from ibm_watson import ToneAnalyzerV3\n",
    "from ibm_watson.tone_analyzer_v3 import ToneInput\n",
    "from ibm_cloud_sdk_core.authenticators import IAMAuthenticator\n",
    "import numpy as np\n",
    "import matplotlib.pyplot as plt\n",
    "import seaborn as sns\n",
    "import yaml\n",
    "from pyprojroot import here"
   ]
  },
  {
   "cell_type": "code",
   "execution_count": 2,
   "metadata": {},
   "outputs": [],
   "source": [
    "with open(here(\"environ.yaml\")) as file:\n",
    "    api_keys = yaml.load(file, Loader=yaml.FullLoader)\n"
   ]
  },
  {
   "cell_type": "code",
   "execution_count": 3,
   "metadata": {},
   "outputs": [],
   "source": [
    "response = requests.get('http://newsapi.org/v2/everything?'\n",
    "       'q=COVID-19&'\n",
    "       'from=2020-04-08&'\n",
    "       'to=2020-04-22&'\n",
    "       'sortBy=popularity&'\n",
    "       'languages=en&'\n",
    "       'pageSize=100&'\n",
    "       f'apiKey={api_keys[\"news_api_key\"]}')\n",
    "data = response.json()\n",
    "#pprint(data)"
   ]
  },
  {
   "cell_type": "code",
   "execution_count": 4,
   "metadata": {},
   "outputs": [
    {
     "data": {
      "text/html": [
       "<div>\n",
       "<style scoped>\n",
       "    .dataframe tbody tr th:only-of-type {\n",
       "        vertical-align: middle;\n",
       "    }\n",
       "\n",
       "    .dataframe tbody tr th {\n",
       "        vertical-align: top;\n",
       "    }\n",
       "\n",
       "    .dataframe thead th {\n",
       "        text-align: right;\n",
       "    }\n",
       "</style>\n",
       "<table border=\"1\" class=\"dataframe\">\n",
       "  <thead>\n",
       "    <tr style=\"text-align: right;\">\n",
       "      <th></th>\n",
       "      <th>source</th>\n",
       "      <th>author</th>\n",
       "      <th>title</th>\n",
       "      <th>description</th>\n",
       "      <th>url</th>\n",
       "      <th>urlToImage</th>\n",
       "      <th>publishedAt</th>\n",
       "      <th>content</th>\n",
       "    </tr>\n",
       "  </thead>\n",
       "  <tbody>\n",
       "    <tr>\n",
       "      <th>name</th>\n",
       "      <td>Lifehacker.com</td>\n",
       "      <td>Brendan Hesse and David Murphy</td>\n",
       "      <td>The Simplest Video Chat Apps for People Who St...</td>\n",
       "      <td>Social distancing is crucial to reducing COVID...</td>\n",
       "      <td>https://lifehacker.com/the-simplest-video-chat...</td>\n",
       "      <td>https://i.kinja-img.com/gawker-media/image/upl...</td>\n",
       "      <td>2020-04-09T20:30:00Z</td>\n",
       "      <td>Social distancing is crucial to reducing COVID...</td>\n",
       "    </tr>\n",
       "  </tbody>\n",
       "</table>\n",
       "</div>"
      ],
      "text/plain": [
       "              source                          author  \\\n",
       "name  Lifehacker.com  Brendan Hesse and David Murphy   \n",
       "\n",
       "                                                  title  \\\n",
       "name  The Simplest Video Chat Apps for People Who St...   \n",
       "\n",
       "                                            description  \\\n",
       "name  Social distancing is crucial to reducing COVID...   \n",
       "\n",
       "                                                    url  \\\n",
       "name  https://lifehacker.com/the-simplest-video-chat...   \n",
       "\n",
       "                                             urlToImage           publishedAt  \\\n",
       "name  https://i.kinja-img.com/gawker-media/image/upl...  2020-04-09T20:30:00Z   \n",
       "\n",
       "                                                content  \n",
       "name  Social distancing is crucial to reducing COVID...  "
      ]
     },
     "execution_count": 4,
     "metadata": {},
     "output_type": "execute_result"
    }
   ],
   "source": [
    "pd.DataFrame.from_dict( data[\"articles\"][5]).iloc[[1]]"
   ]
  },
  {
   "cell_type": "code",
   "execution_count": 5,
   "metadata": {},
   "outputs": [],
   "source": [
    "articles_df = pd.concat(    \n",
    "    [pd.DataFrame.from_dict(article).iloc[[1]] for article in data[\"articles\"]]\n",
    ").reset_index()"
   ]
  },
  {
   "cell_type": "code",
   "execution_count": 6,
   "metadata": {},
   "outputs": [
    {
     "name": "stdout",
     "output_type": "stream",
     "text": [
      "0     Assist COVID-19 Research by Sharing Your Fitbi...\n",
      "1     Sorry, We Did Not All Get and Recover From COV...\n",
      "2     Now You Can Find a COVID-19 Testing Center Usi...\n",
      "3     You Can Get Two Months of Stadia Pro For Free ...\n",
      "4     Don't Count on Getting a Refund From Ticketmas...\n",
      "                            ...                        \n",
      "95           Plz Donate in Exchange for Celebrity Nudes\n",
      "96    Thanks to Sheltering in Place, Animal Shelters...\n",
      "97    The Pandemic Could Be an Opportunity to Remake...\n",
      "98       The US Is Waging War on Digital Trade Barriers\n",
      "99    Stockholm's Subway Network is the World's Long...\n",
      "Name: title, Length: 100, dtype: object\n"
     ]
    }
   ],
   "source": [
    "print(articles_df[\"title\"])"
   ]
  },
  {
   "cell_type": "markdown",
   "metadata": {},
   "source": [
    "# Testing tone of title"
   ]
  },
  {
   "cell_type": "code",
   "execution_count": 7,
   "metadata": {},
   "outputs": [],
   "source": [
    "#Authentication via IAM\n",
    "authenticator = IAMAuthenticator(f'{api_keys[\"watson_api_key\"]}')\n",
    "service = ToneAnalyzerV3(\n",
    "    version='2017-09-21',\n",
    "    authenticator=authenticator)\n",
    "service.set_service_url('https://gateway.watsonplatform.net/tone-analyzer/api')"
   ]
  },
  {
   "cell_type": "code",
   "execution_count": 8,
   "metadata": {},
   "outputs": [],
   "source": [
    "# Authentication via external config like VCAP_SERVICES\n",
    "service = ToneAnalyzerV3(version='2017-09-21',authenticator=authenticator)\n",
    "service.set_service_url('https://gateway.watsonplatform.net/tone-analyzer/api')"
   ]
  },
  {
   "cell_type": "code",
   "execution_count": 9,
   "metadata": {},
   "outputs": [],
   "source": [
    "def get_tone(text):\n",
    "    this_tone = service.tone(\n",
    "            tone_input=text,\n",
    "            content_type=\"text/plain\").get_result()\n",
    "    return this_tone[\"document_tone\"]"
   ]
  },
  {
   "cell_type": "code",
   "execution_count": 10,
   "metadata": {},
   "outputs": [],
   "source": [
    "def get_num_tones(tone_dict):\n",
    "    return len(tone_dict[\"tones\"])"
   ]
  },
  {
   "cell_type": "code",
   "execution_count": 11,
   "metadata": {},
   "outputs": [],
   "source": [
    "@np.vectorize\n",
    "def get_tone_name(tone_dict,num_tone):\n",
    "    if num_tone == 0:\n",
    "        return \"No Tone Available\"\n",
    "    else:\n",
    "        return tone_dict[\"tones\"][0][\"tone_id\"] "
   ]
  },
  {
   "cell_type": "code",
   "execution_count": 12,
   "metadata": {},
   "outputs": [
    {
     "name": "stdout",
     "output_type": "stream",
     "text": [
      "{'tones': [{'score': 0.70123, 'tone_id': 'tentative', 'tone_name': 'Tentative'}]}\n",
      "1\n"
     ]
    }
   ],
   "source": [
    "ex = get_tone(\"Sorry, We Did Not All Get and Recover From\")\n",
    "print(ex)\n",
    "print(get_num_tones(ex))"
   ]
  },
  {
   "cell_type": "code",
   "execution_count": 13,
   "metadata": {},
   "outputs": [],
   "source": [
    "articles_df[\"tone\"] = articles_df[\"title\"].apply(get_tone)"
   ]
  },
  {
   "cell_type": "code",
   "execution_count": 14,
   "metadata": {},
   "outputs": [],
   "source": [
    "articles_df[\"num_tones\"] = articles_df[\"tone\"].apply(get_num_tones)"
   ]
  },
  {
   "cell_type": "code",
   "execution_count": 15,
   "metadata": {},
   "outputs": [],
   "source": [
    "articles_df[\"tone_name\"] = get_tone_name(articles_df[\"tone\"],articles_df[\"num_tones\"])"
   ]
  },
  {
   "cell_type": "code",
   "execution_count": 16,
   "metadata": {},
   "outputs": [
    {
     "data": {
      "text/plain": [
       "<matplotlib.axes._subplots.AxesSubplot at 0x7f6692b3b550>"
      ]
     },
     "execution_count": 16,
     "metadata": {},
     "output_type": "execute_result"
    },
    {
     "data": {
      "image/png": "[encoded data removed]",
      "text/plain": [
       "<Figure size 432x288 with 1 Axes>"
      ]
     },
     "metadata": {
      "needs_background": "light"
     },
     "output_type": "display_data"
    }
   ],
   "source": [
    "sns.countplot(y=articles_df[\"tone_name\"])"
   ]
  },
  {
   "cell_type": "code",
   "execution_count": 17,
   "metadata": {},
   "outputs": [
    {
     "data": {
      "text/html": [
       "<div>\n",
       "<style scoped>\n",
       "    .dataframe tbody tr th:only-of-type {\n",
       "        vertical-align: middle;\n",
       "    }\n",
       "\n",
       "    .dataframe tbody tr th {\n",
       "        vertical-align: top;\n",
       "    }\n",
       "\n",
       "    .dataframe thead th {\n",
       "        text-align: right;\n",
       "    }\n",
       "</style>\n",
       "<table border=\"1\" class=\"dataframe\">\n",
       "  <thead>\n",
       "    <tr style=\"text-align: right;\">\n",
       "      <th></th>\n",
       "      <th>index</th>\n",
       "      <th>source</th>\n",
       "      <th>author</th>\n",
       "      <th>title</th>\n",
       "      <th>description</th>\n",
       "      <th>url</th>\n",
       "      <th>urlToImage</th>\n",
       "      <th>publishedAt</th>\n",
       "      <th>content</th>\n",
       "      <th>tone</th>\n",
       "      <th>num_tones</th>\n",
       "      <th>tone_name</th>\n",
       "    </tr>\n",
       "  </thead>\n",
       "  <tbody>\n",
       "    <tr>\n",
       "      <th>53</th>\n",
       "      <td>name</td>\n",
       "      <td>Engadget</td>\n",
       "      <td>Jon Fingas</td>\n",
       "      <td>Discord beta reduces background noise during y...</td>\n",
       "      <td>Discord voice chats are particularly important...</td>\n",
       "      <td>https://www.engadget.com/discord-noise-suppres...</td>\n",
       "      <td>https://o.aolcdn.com/images/dims?resize=1200%2...</td>\n",
       "      <td>2020-04-10T20:24:01Z</td>\n",
       "      <td>Discord voice chats are particularly important...</td>\n",
       "      <td>{'tones': [{'score': 0.586748, 'tone_id': 'fea...</td>\n",
       "      <td>1</td>\n",
       "      <td>fear</td>\n",
       "    </tr>\n",
       "  </tbody>\n",
       "</table>\n",
       "</div>"
      ],
      "text/plain": [
       "   index    source      author  \\\n",
       "53  name  Engadget  Jon Fingas   \n",
       "\n",
       "                                                title  \\\n",
       "53  Discord beta reduces background noise during y...   \n",
       "\n",
       "                                          description  \\\n",
       "53  Discord voice chats are particularly important...   \n",
       "\n",
       "                                                  url  \\\n",
       "53  https://www.engadget.com/discord-noise-suppres...   \n",
       "\n",
       "                                           urlToImage           publishedAt  \\\n",
       "53  https://o.aolcdn.com/images/dims?resize=1200%2...  2020-04-10T20:24:01Z   \n",
       "\n",
       "                                              content  \\\n",
       "53  Discord voice chats are particularly important...   \n",
       "\n",
       "                                                 tone  num_tones tone_name  \n",
       "53  {'tones': [{'score': 0.586748, 'tone_id': 'fea...          1      fear  "
      ]
     },
     "execution_count": 17,
     "metadata": {},
     "output_type": "execute_result"
    }
   ],
   "source": [
    "articles_df.loc[articles_df[\"tone_name\"]==\"fear\"]"
   ]
  }
 ],
 "metadata": {
  "kernelspec": {
   "display_name": "Python 3",
   "language": "python",
   "name": "python3"
  },
  "language_info": {
   "codemirror_mode": {
    "name": "ipython",
    "version": 3
   },
   "file_extension": ".py",
   "mimetype": "text/x-python",
   "name": "python",
   "nbconvert_exporter": "python",
   "pygments_lexer": "ipython3",
   "version": "3.8.2"
  }
 },
 "nbformat": 4,
 "nbformat_minor": 4
}
